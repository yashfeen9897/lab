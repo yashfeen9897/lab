{
 "cells": [
  {
   "cell_type": "code",
   "execution_count": 1,
   "metadata": {},
   "outputs": [
    {
     "name": "stdout",
     "output_type": "stream",
     "text": [
      "Populating the interactive namespace from numpy and matplotlib\n"
     ]
    }
   ],
   "source": [
    "%pylab inline\n",
    "import pandas as pd\n",
    "import numpy as np\n",
    "import matplotlib.pyplot as plt\n",
    "import seaborn as sns ## Beautiful Plots :)"
   ]
  },
  {
   "cell_type": "code",
   "execution_count": 2,
   "metadata": {},
   "outputs": [],
   "source": [
    "import os\n",
    "import re\n",
    "import operator\n",
    "import datetime\n",
    "from collections import Counter\n",
    "from nltk import ngrams\n",
    "from utils import *\n",
    "import gc"
   ]
  },
  {
   "cell_type": "code",
   "execution_count": 3,
   "metadata": {},
   "outputs": [],
   "source": [
    "from sklearn import metrics\n",
    "from sklearn.model_selection import cross_val_score\n",
    "import warnings\n",
    "warnings.filterwarnings('ignore')\n",
    "from pylab import rcParams\n",
    "rcParams['figure.figsize'] = 20,10"
   ]
  },
  {
   "cell_type": "code",
   "execution_count": 4,
   "metadata": {},
   "outputs": [],
   "source": [
    "class Random_Acts_Of_Pizza(object):\n",
    "    \"\"\"\n",
    "    This class takes in a dataframe from \"Random Acts Of Pizza\"\n",
    "    and creates a set of features for each requests present in\n",
    "    the data. The features can be explicitly accessed with the \n",
    "    help of methods of this class.\n",
    "    \"\"\"\n",
    "    \n",
    "    def __init__(self,dataframe):\n",
    "        \"\"\"\n",
    "        The input is a dataframe. We have explicitly used\n",
    "        data provided from the Kaggle competition named as\n",
    "        Random Acts Of Pizza.\n",
    "        Link : https://www.kaggle.com/c/random-acts-of-pizza/data\n",
    "        \"\"\"\n",
    "        self.df = dataframe\n",
    "    \n",
    "    def __str__(self):\n",
    "        return str(self.df.info())\n",
    "    \n",
    "    def get_narrative(self,col,narrative):\n",
    "        \"\"\"\n",
    "        Takes in input as the column and a lexicon for\n",
    "        the narrative. The lexicon is in the form of a \n",
    "        dictionary where key in the narrative and value\n",
    "        is a string containing all words relating to the\n",
    "        narrative.\n",
    "        Outputs a list containing narrative score for\n",
    "        each request\n",
    "        \"\"\"\n",
    "        request_narrative,narration = [],[]\n",
    "        for request in self.df[col]:\n",
    "            word_count = {'Money':0,'Job':0,'Student':0,'Family':0,'Craving':0}\n",
    "            n = 0\n",
    "            for word in request.split():\n",
    "                for lexicon in narrative:\n",
    "                    if word in narrative[lexicon]:\n",
    "                        word_count[lexicon] += 1\n",
    "            narration.append(max(word_count.iteritems(), key=operator.itemgetter(1))[0])\n",
    "        print 'Use get_dummies to encode the features as binary'\n",
    "        return narration\n",
    "    \n",
    "    def get_politeness(self,col,polite_words):\n",
    "        \"\"\"\n",
    "        Takes in input as the column for which politeness\n",
    "        needs to be calculated.\n",
    "        Output is a list of floats for each request where\n",
    "        each float corresponds to the politeness score for\n",
    "        each request.\n",
    "        \"\"\"\n",
    "        count,politeness = 0,[]\n",
    "        for request in self.df[col]:\n",
    "            count += 1\n",
    "            request_ngrams = []\n",
    "            for grams in ngrams(request.split(),3):\n",
    "                request_ngrams.append(' '.join(grams))\n",
    "            for grams in ngrams(request.split(),2):\n",
    "                request_ngrams.append(' '.join(grams))\n",
    "            request_words = set(request.split())\n",
    "            request_ngrams = set(request_ngrams)\n",
    "            num = len(request_words.intersection(set(polite_words))) +\\\n",
    "            len(request_ngrams.intersection(set(polite_words)))\n",
    "            try:\n",
    "                politeness.append(float(num)/len(request_words))\n",
    "            except:\n",
    "                politeness.append(0.0)\n",
    "        print 'Total Number of request parsed: ',count\n",
    "        return politeness\n",
    "    \n",
    "    def get_length(self,col):\n",
    "        \"\"\"\n",
    "        Takes input as the column name(for the request)\n",
    "        Outputs the length \n",
    "        \"\"\"\n",
    "        return [len(x.split()) for x in self.df[col]]\n",
    "    \n",
    "    def get_karma(self):\n",
    "        \"\"\"\n",
    "        Calculate the karma score for each user of the\n",
    "        RAOP.\n",
    "        Output is a list of karma score for each requester.\n",
    "        \"\"\"\n",
    "        karma = self.df['requester_upvotes_plus_downvotes_at_request']+\\\n",
    "        self.df['requester_upvotes_plus_downvotes_at_retrieval']\n",
    "        return karma\n",
    "    \n",
    "    def get_score(self):\n",
    "        \"\"\"\n",
    "        Calculates the score of each user of RAOP.\n",
    "        Output is a list of score for each user.\n",
    "        \"\"\"\n",
    "        score = self.df['requester_upvotes_minus_downvotes_at_request']+\\\n",
    "        self.df['requester_upvotes_minus_downvotes_at_retrieval']\n",
    "        return score\n",
    "    \n",
    "    def get_evidentiality(self,col):\n",
    "        \"\"\"\n",
    "        We count the occur- rences of http links, image links,\n",
    "        and “proof”/“prove”\n",
    "        Returns a list of number of urls for each request.\n",
    "        \"\"\"\n",
    "        urls = []\n",
    "        for text in self.df[col]:\n",
    "            url = re.findall('http[s]?://(?:[a-zA-Z]|[0-9]|[$-_@.&+]|[!*\\(\\),]|(?:%[0-9a-fA-F][0-9a-fA-F]))+', text)\n",
    "            urls.append(len(url))\n",
    "        return urls\n",
    "    \n",
    "    def get_complexity(self,col):\n",
    "        \"\"\"\n",
    "        Takes input as the column of request and calculate\n",
    "        the complexity score given by Flesch-Kincaid Grade \n",
    "        Level.\n",
    "        Returns a list of complexity score for each request.\n",
    "        \"\"\"\n",
    "        grade_level = []\n",
    "        syl = set(['a','e','i','o','u'])\n",
    "        for text in self.df[col]:\n",
    "            sent_cnt = len(text.split('.'))\n",
    "            words = re.sub(\"[\"+'!\"#$%&\\'()*+.,-/:;<=>?@[\\\\]^_`{|}~'+\"]\", \" \", text).split()\n",
    "            syl_count = 0\n",
    "            for word in words:\n",
    "                for letter in list(word):\n",
    "                    if letter in syl:\n",
    "                        syl_count += 1\n",
    "            grade_level.append(Flesch_reading_ease(total_sentences = sent_cnt,total_words = len(words),\\\n",
    "                                                   total_sylabls=syl_count))\n",
    "        return grade_level\n",
    "    \n",
    "    def spell_check_score(self,col):\n",
    "        \"\"\"\n",
    "        We further use a spell-checker to identify misspelled \n",
    "        words in the request text [10]. In other contexts \n",
    "        (e.g. Kickstarter), spelling errors have been found to\n",
    "        have a negative impact on funding success.\n",
    "        \n",
    "        Input is the column of request.\n",
    "        Returns a list of spelling check score for each\n",
    "        request\n",
    "        \"\"\"\n",
    "        spell_errors = []\n",
    "        for text in self.df[col]:\n",
    "            spl_err = 0\n",
    "            words = re.sub(\"[\"+'!\"#$%&\\'()*+.,-/:;<=>?@[\\\\]^_`{|}~'+\"]\", \" \", text).split()\n",
    "            if len(words):\n",
    "                for word in words:\n",
    "                    if correction(word)!= word: \n",
    "                        spl_err += 1\n",
    "                spell_errors.append(float(spl_err)/len(words))\n",
    "            else:\n",
    "                spell_errors.append(0)\n",
    "        return spell_errors\n",
    "    \n",
    "    def first_half_of_month(self,col):\n",
    "        \"\"\"\n",
    "        Input is the column containing the timestamp\n",
    "        Returns the day of the timestamp for a request\n",
    "        \"\"\"\n",
    "        return [datetime.datetime.fromtimestamp(int(timestamp)).day \\\n",
    "                for timestamp in self.df[col]]\n",
    "    \n",
    "    def get_popularity(self,col):\n",
    "        \"\"\"\n",
    "        Input is the column containing the total upvotes\n",
    "        the request got at time of retrieval\n",
    "        \"\"\"\n",
    "        return self.df[col]\n",
    "    \n",
    "    def get_usersimilarity(self , col):\n",
    "        store = []\n",
    "        \"\"\"\n",
    "        Input:\n",
    "            column containing username of requesters\n",
    "        Output:\n",
    "            score : Their similarity score based on interactions in common\n",
    "            subreddits between requester and  giver user\n",
    "        \"\"\"\n",
    "        for i in self.df[col]:\n",
    "            ls = list(self.df[self.df.requester_username == i].requester_subreddits_at_request)\n",
    "            giver_ = list(self.df[self.df.requester_username == i].giver_username_if_known)\n",
    "            score = 0\n",
    "            if len(ls[0]) and giver_[0] != \"N/A\":\n",
    "                for j in ls[0]:\n",
    "                    a = get_post_from_subreddit_by_user(i , j)\n",
    "                    b = get_post_from_subreddit_by_user(giver_[0] , j)\n",
    "                    if a != 0 and b != 0:\n",
    "                        score += (a+b)\n",
    "            store.append(score)\n",
    "        return store\n",
    "    def get_age(self):\n",
    "        \"\"\"\n",
    "        Input : void\n",
    "        Output : A panda series having the age of account\n",
    "        (present in dataset already)\n",
    "        \"\"\"\n",
    "        return df['requester_days_since_first_post_on_raop_at_request']\n",
    "    \n",
    "    def get_activity(self):\n",
    "        \"\"\"\n",
    "        Input : void\n",
    "        Output : A panda series having the activity of account\n",
    "        (present in dataset already)\n",
    "        \"\"\"\n",
    "        return self.df['requester_number_of_subreddits_at_request']\n",
    "    \n",
    "    def train_model(self,data,model,response_col,scoring='roc_auc',cv=5):\n",
    "        \"\"\"\n",
    "        Input:\n",
    "            data : new morphed data frame\n",
    "            model : the model on which data is to be trained.\n",
    "            response_col : name of column to be used as\n",
    "            response\n",
    "            cv : number of cross validation scores\n",
    "            scoring : method of scoring\n",
    "        Output:\n",
    "            score : k-fold cv score for the model\n",
    "        \"\"\"\n",
    "        data_copy = data.copy()\n",
    "        y = data_copy.pop(response_col)\n",
    "        scores = cross_val_score(model,data_copy,y,scoring=scoring,cv=cv)\n",
    "        del data_copy # Dataframe may be too large\n",
    "        gc.collect() # Explicitly collecting the garbage\n",
    "        return scores.mean()\n",
    "\n",
    "    "
   ]
  },
  {
   "cell_type": "code",
   "execution_count": 5,
   "metadata": {},
   "outputs": [],
   "source": [
    "df = pd.read_json('../Dataset/Random Acts Of Pizza/train.json')\n",
    "requests = 'request_text_edit_aware'"
   ]
  },
  {
   "cell_type": "code",
   "execution_count": 6,
   "metadata": {},
   "outputs": [
    {
     "name": "stdout",
     "output_type": "stream",
     "text": [
      "<class 'pandas.core.frame.DataFrame'>\n",
      "Int64Index: 4040 entries, 0 to 4039\n",
      "Data columns (total 32 columns):\n",
      "giver_username_if_known                                 4040 non-null object\n",
      "number_of_downvotes_of_request_at_retrieval             4040 non-null int64\n",
      "number_of_upvotes_of_request_at_retrieval               4040 non-null int64\n",
      "post_was_edited                                         4040 non-null int64\n",
      "request_id                                              4040 non-null object\n",
      "request_number_of_comments_at_retrieval                 4040 non-null int64\n",
      "request_text                                            4040 non-null object\n",
      "request_text_edit_aware                                 4040 non-null object\n",
      "request_title                                           4040 non-null object\n",
      "requester_account_age_in_days_at_request                4040 non-null float64\n",
      "requester_account_age_in_days_at_retrieval              4040 non-null float64\n",
      "requester_days_since_first_post_on_raop_at_request      4040 non-null float64\n",
      "requester_days_since_first_post_on_raop_at_retrieval    4040 non-null float64\n",
      "requester_number_of_comments_at_request                 4040 non-null int64\n",
      "requester_number_of_comments_at_retrieval               4040 non-null int64\n",
      "requester_number_of_comments_in_raop_at_request         4040 non-null int64\n",
      "requester_number_of_comments_in_raop_at_retrieval       4040 non-null int64\n",
      "requester_number_of_posts_at_request                    4040 non-null int64\n",
      "requester_number_of_posts_at_retrieval                  4040 non-null int64\n",
      "requester_number_of_posts_on_raop_at_request            4040 non-null int64\n",
      "requester_number_of_posts_on_raop_at_retrieval          4040 non-null int64\n",
      "requester_number_of_subreddits_at_request               4040 non-null int64\n",
      "requester_received_pizza                                4040 non-null bool\n",
      "requester_subreddits_at_request                         4040 non-null object\n",
      "requester_upvotes_minus_downvotes_at_request            4040 non-null int64\n",
      "requester_upvotes_minus_downvotes_at_retrieval          4040 non-null int64\n",
      "requester_upvotes_plus_downvotes_at_request             4040 non-null int64\n",
      "requester_upvotes_plus_downvotes_at_retrieval           4040 non-null int64\n",
      "requester_user_flair                                    994 non-null object\n",
      "requester_username                                      4040 non-null object\n",
      "unix_timestamp_of_request                               4040 non-null int64\n",
      "unix_timestamp_of_request_utc                           4040 non-null int64\n",
      "dtypes: bool(1), float64(4), int64(19), object(8)\n",
      "memory usage: 1013.9+ KB\n",
      "None\n"
     ]
    }
   ],
   "source": [
    "raop = Random_Acts_Of_Pizza(df)\n",
    "print raop"
   ]
  },
  {
   "cell_type": "code",
   "execution_count": 7,
   "metadata": {},
   "outputs": [
    {
     "name": "stdout",
     "output_type": "stream",
     "text": [
      "Use get_dummies to encode the features as binary\n",
      "Total Number of request parsed:  4040\n"
     ]
    }
   ],
   "source": [
    "## Calculating all the features\n",
    "narrative_topics = raop.get_narrative(col=requests,narrative=narrative)\n",
    "df['narrative_topics'] = narrative_topics\n",
    "df = pd.get_dummies(df,columns=['narrative_topics'])\n",
    "df['politeness'] =  raop.get_politeness(col=requests,polite_words=polite_words)\n",
    "df['request_length'] = raop.get_length(requests)\n",
    "df['karma'] = raop.get_karma()\n",
    "df['scores'] = raop.get_score()\n",
    "df['trust'] = raop.get_evidentiality(requests)\n",
    "df['complexity'] = raop.get_complexity(requests)\n",
    "df['popularity'] = raop.get_popularity('number_of_upvotes_of_request_at_retrieval' )\n",
    "df['age'] = raop.get_age()\n",
    "df['first_half_of_month'] = pd.Series(raop.first_half_of_month('unix_timestamp_of_request')) < 15\n",
    "df['activity'] = raop.get_activity()"
   ]
  },
  {
   "cell_type": "code",
   "execution_count": 8,
   "metadata": {},
   "outputs": [
    {
     "name": "stdout",
     "output_type": "stream",
     "text": [
      "File exists...\n"
     ]
    }
   ],
   "source": [
    "if not os.path.isfile('data/spellCheck.csv'):\n",
    "    df['spell_check_score'] = raop.spell_check_score(requests)\n",
    "    df['spell_check_score'].to_csv('spellCheck.csv')\n",
    "    print df.spell_check_score.head(2)\n",
    "else:\n",
    "    print 'File exists...'\n",
    "    df['spell_check'] = pd.read_csv('data/spellCheck.csv',index_col=0,header=None)"
   ]
  },
  {
   "cell_type": "code",
   "execution_count": 9,
   "metadata": {},
   "outputs": [
    {
     "name": "stdout",
     "output_type": "stream",
     "text": [
      "All files exists..\n"
     ]
    }
   ],
   "source": [
    "# Sanity Check\n",
    "for fname in ['similarity.csv','sentiment.csv','indegree.csv','outdegree.csv','shapley.csv']:\n",
    "    fname = 'data/'+fname\n",
    "    if not os.path.isfile(fname):\n",
    "        print \"{} file doesn't exists...\"\n",
    "        raise\n",
    "print 'All files exists..'"
   ]
  },
  {
   "cell_type": "code",
   "execution_count": 10,
   "metadata": {},
   "outputs": [],
   "source": [
    "df['similarity'] = pd.read_csv('data/similarity.csv',index_col=0,header=None)\n",
    "df['sentiment'] = pd.read_csv('data/sentiment.csv',index_col=0,header=None).iloc[:4040,-1].fillna(0)\n",
    "df['giver'] = df['giver_username_if_known'].map({'N/A':0}).fillna(1)\n",
    "df = df.merge(pd.read_csv('data/indegree.csv',names=['requester_username','indegree'],header=None))\n",
    "df = df.merge(pd.read_csv('data/shapley.csv',names=['requester_username','shapley'],header=None))\n",
    "df = df.merge(pd.read_csv('data/outdegree.csv',names=['requester_username','outdegree'],header=None))"
   ]
  },
  {
   "cell_type": "code",
   "execution_count": 11,
   "metadata": {},
   "outputs": [],
   "source": [
    "req_features = [\n",
    " 'complexity',\n",
    " 'first_half_of_month',\n",
    " 'karma',\n",
    " 'narrative_topics_Craving',\n",
    " 'narrative_topics_Family',\n",
    " 'narrative_topics_Job',\n",
    " 'narrative_topics_Money',\n",
    " 'narrative_topics_Student',\n",
    " 'politeness',\n",
    " 'popularity',\n",
    " 'request_length',\n",
    " 'scores',\n",
    " 'trust',\n",
    " 'requester_received_pizza',\n",
    " 'similarity',\n",
    " 'sentiment',\n",
    " 'giver',\n",
    " 'activity',\n",
    " 'age',\n",
    " 'indegree',\n",
    " 'outdegree',\n",
    " 'shapley'\n",
    "]\n"
   ]
  },
  {
   "cell_type": "code",
   "execution_count": 12,
   "metadata": {},
   "outputs": [
    {
     "data": {
      "text/html": [
       "<div>\n",
       "<table border=\"1\" class=\"dataframe\">\n",
       "  <thead>\n",
       "    <tr style=\"text-align: right;\">\n",
       "      <th></th>\n",
       "      <th>requester_received_pizza</th>\n",
       "      <th>narrative_topics_Craving</th>\n",
       "      <th>narrative_topics_Family</th>\n",
       "      <th>narrative_topics_Job</th>\n",
       "      <th>narrative_topics_Money</th>\n",
       "      <th>narrative_topics_Student</th>\n",
       "      <th>politeness</th>\n",
       "      <th>request_length</th>\n",
       "      <th>karma</th>\n",
       "      <th>scores</th>\n",
       "      <th>...</th>\n",
       "      <th>popularity</th>\n",
       "      <th>age</th>\n",
       "      <th>first_half_of_month</th>\n",
       "      <th>activity</th>\n",
       "      <th>similarity</th>\n",
       "      <th>sentiment</th>\n",
       "      <th>giver</th>\n",
       "      <th>indegree</th>\n",
       "      <th>shapley</th>\n",
       "      <th>outdegree</th>\n",
       "    </tr>\n",
       "  </thead>\n",
       "  <tbody>\n",
       "    <tr>\n",
       "      <th>0</th>\n",
       "      <td>False</td>\n",
       "      <td>0.0</td>\n",
       "      <td>1.0</td>\n",
       "      <td>0.0</td>\n",
       "      <td>0.0</td>\n",
       "      <td>0.0</td>\n",
       "      <td>0.0</td>\n",
       "      <td>67</td>\n",
       "      <td>1</td>\n",
       "      <td>1</td>\n",
       "      <td>...</td>\n",
       "      <td>1</td>\n",
       "      <td>0.0</td>\n",
       "      <td>True</td>\n",
       "      <td>0</td>\n",
       "      <td>0</td>\n",
       "      <td>2.250</td>\n",
       "      <td>0.0</td>\n",
       "      <td>0</td>\n",
       "      <td>0.0</td>\n",
       "      <td>0</td>\n",
       "    </tr>\n",
       "    <tr>\n",
       "      <th>1</th>\n",
       "      <td>False</td>\n",
       "      <td>0.0</td>\n",
       "      <td>0.0</td>\n",
       "      <td>0.0</td>\n",
       "      <td>1.0</td>\n",
       "      <td>0.0</td>\n",
       "      <td>0.0</td>\n",
       "      <td>16</td>\n",
       "      <td>11284</td>\n",
       "      <td>4292</td>\n",
       "      <td>...</td>\n",
       "      <td>5</td>\n",
       "      <td>0.0</td>\n",
       "      <td>False</td>\n",
       "      <td>12</td>\n",
       "      <td>0</td>\n",
       "      <td>0.375</td>\n",
       "      <td>0.0</td>\n",
       "      <td>0</td>\n",
       "      <td>0.0</td>\n",
       "      <td>0</td>\n",
       "    </tr>\n",
       "  </tbody>\n",
       "</table>\n",
       "<p>2 rows × 22 columns</p>\n",
       "</div>"
      ],
      "text/plain": [
       "  requester_received_pizza  narrative_topics_Craving  narrative_topics_Family  \\\n",
       "0                    False                       0.0                      1.0   \n",
       "1                    False                       0.0                      0.0   \n",
       "\n",
       "   narrative_topics_Job  narrative_topics_Money  narrative_topics_Student  \\\n",
       "0                   0.0                     0.0                       0.0   \n",
       "1                   0.0                     1.0                       0.0   \n",
       "\n",
       "   politeness  request_length  karma  scores    ...      popularity  age  \\\n",
       "0         0.0              67      1       1    ...               1  0.0   \n",
       "1         0.0              16  11284    4292    ...               5  0.0   \n",
       "\n",
       "   first_half_of_month  activity similarity  sentiment  giver  indegree  \\\n",
       "0                 True         0          0      2.250    0.0         0   \n",
       "1                False        12          0      0.375    0.0         0   \n",
       "\n",
       "   shapley  outdegree  \n",
       "0      0.0          0  \n",
       "1      0.0          0  \n",
       "\n",
       "[2 rows x 22 columns]"
      ]
     },
     "execution_count": 12,
     "metadata": {},
     "output_type": "execute_result"
    }
   ],
   "source": [
    "df_new = df.drop([col for col in df.columns if col not in req_features],axis=1)\n",
    "df_new.head(2)"
   ]
  },
  {
   "cell_type": "code",
   "execution_count": 13,
   "metadata": {},
   "outputs": [],
   "source": [
    "from sklearn.linear_model import LogisticRegression\n",
    "model = LogisticRegression(penalty='l1')\n",
    "auc_score = raop.train_model(df_new,model=model,response_col='requester_received_pizza',cv=2)\n",
    "acc_score = raop.train_model(df_new,model=model,response_col='requester_received_pizza',cv=2,scoring='accuracy')"
   ]
  },
  {
   "cell_type": "code",
   "execution_count": 14,
   "metadata": {},
   "outputs": [
    {
     "name": "stdout",
     "output_type": "stream",
     "text": [
      "ROC Score: 80.2285148844\n",
      "Accuracy Score: 81.7574257426\n"
     ]
    }
   ],
   "source": [
    "print 'ROC Score: {}'.format(auc_score*100)\n",
    "print 'Accuracy Score: {}'.format(acc_score*100)"
   ]
  },
  {
   "cell_type": "markdown",
   "metadata": {},
   "source": [
    "### COMPARISON MODELS "
   ]
  },
  {
   "cell_type": "code",
   "execution_count": 42,
   "metadata": {},
   "outputs": [],
   "source": [
    "from sklearn.linear_model import LogisticRegression\n",
    "from sklearn.neighbors import KNeighborsClassifier\n",
    "from sklearn.svm import SVC\n",
    "from sklearn.naive_bayes import MultinomialNB\n",
    "from sklearn.linear_model import SGDClassifier   \n",
    "from sklearn.discriminant_analysis import QuadraticDiscriminantAnalysis\n",
    "from sklearn.ensemble import RandomForestClassifier, AdaBoostClassifier\n",
    "import xgboost\n",
    "from sklearn.discriminant_analysis import LinearDiscriminantAnalysis\n",
    "from sklearn.naive_bayes import GaussianNB\n",
    "from sklearn.tree import DecisionTreeClassifier\n",
    "from sklearn.semi_supervised import LabelPropagation\n",
    "\n",
    "classifiers=[\n",
    "    (LogisticRegression(penalty='l1'),\"LR\"),\n",
    "    (KNeighborsClassifier(5),\"KNC\"),\n",
    "    (SVC(),'SVC'),\n",
    "    (QuadraticDiscriminantAnalysis(),'QDA'),\n",
    "    (RandomForestClassifier(max_depth=50, n_estimators=10, max_features=1),'RFC'),\n",
    "    (AdaBoostClassifier(),'ADC'),\n",
    "    (SGDClassifier(),'SGDC'),\n",
    "    (DecisionTreeClassifier(max_depth=5),'DTC'),\n",
    "    (xgboost.XGBClassifier(learning_rate=0.1),'XGB'),\n",
    "    (LinearDiscriminantAnalysis(),'LDA'),\n",
    "    (GaussianNB(),'GNB'),\n",
    "]"
   ]
  },
  {
   "cell_type": "code",
   "execution_count": 43,
   "metadata": {},
   "outputs": [
    {
     "name": "stdout",
     "output_type": "stream",
     "text": [
      "ROC Score: 80.2794402772 LR\n",
      "ROC Score: 57.2566636594 KNC\n",
      "ROC Score: 57.9297752114 SVC\n",
      "ROC Score: 66.2809460013 QDA\n",
      "ROC Score: 77.5402599791 RFC\n",
      "ROC Score: 81.7707514073 ADC\n",
      "ROC Score: 45.9084485034 SGDC\n",
      "ROC Score: 80.833135678 DTC\n",
      "ROC Score: 82.8074378832 XGB\n",
      "ROC Score: 80.3158237345 LDA\n",
      "ROC Score: 74.709762504 GNB\n"
     ]
    }
   ],
   "source": [
    "score_ , names = [] , []\n",
    "for model,name in classifiers:\n",
    "    score = raop.train_model(df_new,model=model,response_col='requester_received_pizza')\n",
    "    score_.append(score)\n",
    "    names.append(name)\n",
    "    print 'ROC Score: {}'.format(score*100) , name"
   ]
  },
  {
   "cell_type": "code",
   "execution_count": 64,
   "metadata": {
    "collapsed": true
   },
   "outputs": [],
   "source": [
    "from sklearn.cross_validation import train_test_split\n",
    "X = df_new.copy()\n",
    "y = X.pop('requester_received_pizza')\n",
    "X_train,X_test,y_train,y_test = train_test_split(X,y,random_state=7,test_size=0.1)\n",
    "model = LabelPropagation(kernel='knn')\n",
    "model.fit(X_train,y_train)\n",
    "score_.append(roc_auc_score(y_test,model.predict(X_test)))\n",
    "names.append('LPC')"
   ]
  },
  {
   "cell_type": "code",
   "execution_count": 65,
   "metadata": {},
   "outputs": [
    {
     "data": {
      "image/png": "[encoded data removed]",
      "text/plain": [
       "<matplotlib.figure.Figure at 0x122316e50>"
      ]
     },
     "metadata": {},
     "output_type": "display_data"
    }
   ],
   "source": [
    "from matplotlib import pyplot as plt\n",
    "fig = plt.figure()\n",
    "ax = fig.add_subplot(111)\n",
    "A = score_[:]\n",
    "plt.plot(A)\n",
    "for i, label in enumerate(names):\n",
    "    plt.text(i,A[i], label) \n",
    "plt.show()"
   ]
  },
  {
   "cell_type": "markdown",
   "metadata": {},
   "source": [
    "### Significance chart of the features\n",
    "![Significance Chart](data/feature_significance.png \"Title\")"
   ]
  },
  {
   "cell_type": "code",
   "execution_count": null,
   "metadata": {},
   "outputs": [],
   "source": []
  }
 ],
 "metadata": {
  "anaconda-cloud": {},
  "kernelspec": {
   "display_name": "Python 3",
   "language": "python",
   "name": "python3"
  },
  "language_info": {
   "codemirror_mode": {
    "name": "ipython",
    "version": 3
   },
   "file_extension": ".py",
   "mimetype": "text/x-python",
   "name": "python",
   "nbconvert_exporter": "python",
   "pygments_lexer": "ipython3",
   "version": "3.6.5"
  }
 },
 "nbformat": 4,
 "nbformat_minor": 1
}
